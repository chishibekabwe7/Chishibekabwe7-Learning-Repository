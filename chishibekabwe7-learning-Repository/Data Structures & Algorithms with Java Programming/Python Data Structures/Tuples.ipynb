{
 "cells": [
  {
   "cell_type": "code",
   "execution_count": 1,
   "metadata": {},
   "outputs": [
    {
     "name": "stdout",
     "output_type": "stream",
     "text": [
      "('jordan', 'ellesse', 'nike', 'adidas', 'Vans off the wall', 'Off whiteCactus Jack', 'Palm angles', 'Dior', 'Essentials fear of god')\n",
      "ellesse\n",
      "Essentials fear of god\n",
      "jordan\n",
      "ellesse\n",
      "nike\n",
      "adidas\n",
      "Vans off the wall\n",
      "Off whiteCactus Jack\n",
      "Palm angles\n",
      "Dior\n",
      "Essentials fear of god\n",
      "9\n"
     ]
    }
   ],
   "source": [
    "#Declaring a python3 tuple\n",
    "my_tuple = ('jordan', 'ellesse','nike','adidas','Vans off the wall','Off white' 'Cactus Jack', 'Palm angles','Dior','Essentials fear of god')\n",
    "print(my_tuple)\n",
    "\n",
    "#Accessing the tuple elements with indexing\n",
    "print(my_tuple[1])\n",
    "\n",
    "#Accessing the tuple elements with negative indexing\n",
    "print(my_tuple[-1])\n",
    "\n",
    "#looping through the tuple elements\n",
    "for x in my_tuple:\n",
    "    print(x)\n",
    "\n",
    "#Checking or the tuple length\n",
    "print(len(my_tuple))"
   ]
  },
  {
   "cell_type": "markdown",
   "metadata": {},
   "source": [
    "# Primitive Data Structure Tutorial(Tuples)\n",
    "# @chishibekabwe7@github.com"
   ]
  }
 ],
 "metadata": {
  "kernelspec": {
   "display_name": "Python 3",
   "language": "python",
   "name": "python3"
  },
  "language_info": {
   "codemirror_mode": {
    "name": "ipython",
    "version": 3
   },
   "file_extension": ".py",
   "mimetype": "text/x-python",
   "name": "python",
   "nbconvert_exporter": "python",
   "pygments_lexer": "ipython3",
   "version": "3.10.12"
  }
 },
 "nbformat": 4,
 "nbformat_minor": 2
}
