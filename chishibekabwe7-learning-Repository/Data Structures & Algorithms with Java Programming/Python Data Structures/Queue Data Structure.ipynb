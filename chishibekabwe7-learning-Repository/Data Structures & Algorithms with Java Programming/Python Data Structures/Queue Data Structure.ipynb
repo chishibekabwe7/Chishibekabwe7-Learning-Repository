{
 "cells": [
  {
   "cell_type": "code",
   "execution_count": 2,
   "metadata": {},
   "outputs": [
    {
     "name": "stdout",
     "output_type": "stream",
     "text": [
      "60.0 was recently dequeued from Chishibe's queue\n",
      "The length of Chishibe's queue is 5\n",
      "Chishibe's queue is not empty\n",
      "The top element in Chishibe's queue is 50.0\n"
     ]
    }
   ],
   "source": [
    "#Declaring a Queue Data Structure with a list\n",
    "my_queue = []\n",
    "\n",
    "#Enqueueing elements\n",
    "my_queue.append(10.00)\n",
    "my_queue.append(20.00)\n",
    "my_queue.append(30.00)\n",
    "my_queue.append(40.00)\n",
    "my_queue.append(50.00)\n",
    "my_queue.append(60.00)\n",
    "my_queue.append(70.00)\n",
    "my_queue.append(80.00)\n",
    "my_queue.append(90.00)\n",
    "my_queue.append(100.00)\n",
    "\n",
    "#Dequeue elements\n",
    "my_queue.pop()\n",
    "my_queue.pop()\n",
    "my_queue.pop()\n",
    "my_queue.pop()\n",
    "\n",
    "#Dequeued element and storing it in a variable\n",
    "Dequeued_element = my_queue.pop()\n",
    "print(f\"{Dequeued_element} was recently dequeued from Chishibe's queue\")\n",
    "\n",
    "#Checking the length of the queue\n",
    "queue_length = len(my_queue)\n",
    "print(f\"The length of Chishibe's queue is {queue_length}\")\n",
    "\n",
    "#Checking if queue is empty\n",
    "if my_queue:\n",
    "    print(\"Chishibe's queue is not empty\")\n",
    "else:\n",
    "    print(\"Chishibe's queue is empty\")\n",
    "\n",
    "#Accessing the top element with a variable\n",
    "top_element = my_queue[-1]\n",
    "print(f\"The top element in Chishibe's queue is {top_element}\")\n"
   ]
  },
  {
   "cell_type": "markdown",
   "metadata": {},
   "source": [
    "# Abstract Data Structure Tutorial(Queue)\n",
    "# @chishibekabwe7@github.com"
   ]
  }
 ],
 "metadata": {
  "kernelspec": {
   "display_name": "Python 3",
   "language": "python",
   "name": "python3"
  },
  "language_info": {
   "codemirror_mode": {
    "name": "ipython",
    "version": 3
   },
   "file_extension": ".py",
   "mimetype": "text/x-python",
   "name": "python",
   "nbconvert_exporter": "python",
   "pygments_lexer": "ipython3",
   "version": "3.10.12"
  }
 },
 "nbformat": 4,
 "nbformat_minor": 2
}
