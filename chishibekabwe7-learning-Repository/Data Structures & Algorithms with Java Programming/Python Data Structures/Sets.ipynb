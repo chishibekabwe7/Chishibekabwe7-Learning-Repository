{
 "cells": [
  {
   "cell_type": "code",
   "execution_count": 2,
   "metadata": {},
   "outputs": [
    {
     "name": "stdout",
     "output_type": "stream",
     "text": [
      "{'jordan', 'Palm angles', 'ellesse', 'nike', 'Essentials fear of god', 'Dior', 'adidas', 'Off whiteCactus Jack', 'Vans off the wall'}\n",
      "jordan\n",
      "Palm angles\n",
      "ellesse\n",
      "nike\n",
      "Essentials fear of god\n",
      "Dior\n",
      "adidas\n",
      "Off whiteCactus Jack\n",
      "Vans off the wall\n",
      "9\n",
      "<class 'set'>\n"
     ]
    }
   ],
   "source": [
    "#Declaring a set\n",
    "my_set = {'jordan', 'ellesse','nike','adidas','Vans off the wall','Off white' 'Cactus Jack', 'Palm angles','Dior','Essentials fear of god'}\n",
    "print(my_set)\n",
    "\n",
    "#Accessing the set elements with indexing\n",
    "#print(my_set[1])\n",
    "\n",
    "#Accessing the set elements with negative indexing\n",
    "#print(my_set[-1])\n",
    "\n",
    "#looping through the set elements\n",
    "for x in my_set:\n",
    "    print(x)\n",
    "\n",
    "#Checking the set length\n",
    "print(len(my_set))\n",
    "\n",
    "#Checking the data type\n",
    "print(type(my_set))"
   ]
  },
  {
   "cell_type": "markdown",
   "metadata": {},
   "source": [
    "# Primitive Data Structure Tutorial(Sets)\n",
    "# @chishibekabwe7@github.com"
   ]
  }
 ],
 "metadata": {
  "kernelspec": {
   "display_name": "Python 3",
   "language": "python",
   "name": "python3"
  },
  "language_info": {
   "codemirror_mode": {
    "name": "ipython",
    "version": 3
   },
   "file_extension": ".py",
   "mimetype": "text/x-python",
   "name": "python",
   "nbconvert_exporter": "python",
   "pygments_lexer": "ipython3",
   "version": "3.10.12"
  }
 },
 "nbformat": 4,
 "nbformat_minor": 2
}
