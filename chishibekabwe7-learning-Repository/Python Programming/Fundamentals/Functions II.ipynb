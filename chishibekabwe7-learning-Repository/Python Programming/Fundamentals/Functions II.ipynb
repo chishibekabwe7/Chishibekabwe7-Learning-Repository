{
 "cells": [
  {
   "cell_type": "code",
   "execution_count": null,
   "metadata": {},
   "outputs": [],
   "source": [
    "#Defining a Function\n",
    "def my_function(parameter1, parameter2): #These are parameters note! they are always passed down when defining the function.\n",
    "    #Function code here\n",
    "    result = parameter1 + parameter2\n",
    "    return result\n",
    "\n",
    "#Calling a function\n",
    "result = my_function(10,20) #These are arguments note! they are always passed down when calling the function.\n",
    "print(result)\n",
    "\n",
    "#Defining a Function\n",
    "def my_second_function(parameter1,parameter2):\n",
    "    print(parameter1 * parameter2)\n",
    "\n",
    "#Calling a function\n",
    "my_second_function(2,7)\n",
    "\n",
    "#Default parameters\n",
    "def my_third_function(name,age=19):\n",
    "    print(f\"My name is {name} I am {age} years old.\")\n",
    "\n",
    "my_third_function(\"Chishibe\")"
   ]
  },
  {
   "cell_type": "markdown",
   "metadata": {},
   "source": [
    "# Python Tutorial (Functions)"
   ]
  }
 ],
 "metadata": {
  "language_info": {
   "name": "python"
  }
 },
 "nbformat": 4,
 "nbformat_minor": 2
}
