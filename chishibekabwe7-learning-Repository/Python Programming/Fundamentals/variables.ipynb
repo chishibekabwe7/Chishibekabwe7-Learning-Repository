{
 "cells": [
  {
   "cell_type": "code",
   "execution_count": 2,
   "metadata": {},
   "outputs": [
    {
     "name": "stdout",
     "output_type": "stream",
     "text": [
      "Chishibe Kabwe\n",
      "Kabwe Chishibe\n",
      "Chishibe Martin Kabwe\n",
      "This is a Global Variable\n",
      "This is a Private Variable\n"
     ]
    }
   ],
   "source": [
    "#This is a  CamelCase variable\n",
    "myVar = 'Chishibe Kabwe'\n",
    "print(myVar)\n",
    "\n",
    "#This is a SnakeCase variable\n",
    "My_Var = 'Kabwe Chishibe'\n",
    "print(My_Var)\n",
    "\n",
    "#This is Pascal variable\n",
    "MyVar = 'Chishibe Martin Kabwe'\n",
    "print(MyVar)\n",
    "\n",
    "# kebab naming convertion is not supported by python\n",
    "\"\"\"\n",
    "#This is a kebab case variable\n",
    "My-Var ='CJ'\n",
    "\n",
    "\"\"\"\n",
    "\n",
    "#Note A Typical variable is global\n",
    "x = 'Global Variable'\n",
    "def myfunc():\n",
    "    print(\"This is a \"+ x)\n",
    "myfunc()\n",
    "\n",
    "#This is a private variable\n",
    "def myfunction():\n",
    "    global y\n",
    "    y = 'Private Variable'\n",
    "myfunction()\n",
    "print('This is a ' + y)"
   ]
  },
  {
   "cell_type": "markdown",
   "metadata": {},
   "source": [
    "# Varaibles Tutorial with python.\n",
    "# @chishibekabwe@github."
   ]
  }
 ],
 "metadata": {
  "kernelspec": {
   "display_name": "Python 3",
   "language": "python",
   "name": "python3"
  },
  "language_info": {
   "codemirror_mode": {
    "name": "ipython",
    "version": 3
   },
   "file_extension": ".py",
   "mimetype": "text/x-python",
   "name": "python",
   "nbconvert_exporter": "python",
   "pygments_lexer": "ipython3",
   "version": "3.10.12"
  }
 },
 "nbformat": 4,
 "nbformat_minor": 2
}
