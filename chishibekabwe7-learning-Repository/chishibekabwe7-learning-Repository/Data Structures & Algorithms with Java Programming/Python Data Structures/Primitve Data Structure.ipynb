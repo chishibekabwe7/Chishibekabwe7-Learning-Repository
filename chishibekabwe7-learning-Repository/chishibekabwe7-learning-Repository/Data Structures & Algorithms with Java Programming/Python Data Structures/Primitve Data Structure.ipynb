{
 "cells": [
  {
   "cell_type": "code",
   "execution_count": 2,
   "metadata": {},
   "outputs": [
    {
     "name": "stdout",
     "output_type": "stream",
     "text": [
      "<class 'list'>\n",
      "['The Copperbelt University', 'University of Zambia', 'Mukuba University', 'University of Lusaka', 1, True, 34]\n",
      "The Copperbelt University\n",
      "University of Zambia\n",
      "Mukuba University\n",
      "University of Lusaka\n",
      "1\n",
      "True\n",
      "34\n"
     ]
    }
   ],
   "source": [
    "#Lists\n",
    "my_list = [\"The Copperbelt University\",\"University of Zambia\",\"Mukuba University\",\"University of Lusaka\",1,True,34]\n",
    "print(type(my_list))\n",
    "#Outputing it out to the console\n",
    "print(my_list)\n",
    "#Iterating through the list\n",
    "for x in my_list:\n",
    "    print(x)\n",
    "#Ordering the List\n",
    "\"\"\"\n",
    "my_list.sort()\n",
    "print(my_list)\n",
    "\"\"\"\n",
    "\n",
    "#Tuples\n",
    "my_tuple = [\"duplicates are allowed\",\"can be ordered\",\"Chishibe Kabwe\",\"Can be ordered\",34,22,7]\n"
   ]
  },
  {
   "cell_type": "markdown",
   "metadata": {},
   "source": [
    "# Python Lists\n",
    "1. Lists are used to store multiple items in a single variable,lists are one of the four built in data types\n",
    "Lists,Tuples,Sets and Dictionary.\n",
    "2. Lists can have any multiple datatypes.\n",
    "3.  \n",
    "\n",
    "\n",
    "# Primitive Data Structure Tutorial(Lists)\n",
    "# @chishibekabwe7@github.com"
   ]
  }
 ],
 "metadata": {
  "kernelspec": {
   "display_name": "Python 3",
   "language": "python",
   "name": "python3"
  },
  "language_info": {
   "codemirror_mode": {
    "name": "ipython",
    "version": 3
   },
   "file_extension": ".py",
   "mimetype": "text/x-python",
   "name": "python",
   "nbconvert_exporter": "python",
   "pygments_lexer": "ipython3",
   "version": "3.10.12"
  }
 },
 "nbformat": 4,
 "nbformat_minor": 2
}
