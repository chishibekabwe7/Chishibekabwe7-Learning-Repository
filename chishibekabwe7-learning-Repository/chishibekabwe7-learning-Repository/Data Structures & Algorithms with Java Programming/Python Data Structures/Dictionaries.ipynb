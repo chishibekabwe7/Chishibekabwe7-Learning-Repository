{
 "cells": [
  {
   "cell_type": "code",
   "execution_count": 1,
   "metadata": {},
   "outputs": [
    {
     "name": "stdout",
     "output_type": "stream",
     "text": [
      "{'brand': 'Apple', 'model': 'ipad air', 'year': 2022}\n",
      "brand\n",
      "model\n",
      "year\n",
      "Apple\n",
      "{'Mother': {'name': 'Catherine Chiluba', 'year': 1978}, 'firstborn': {'name': 'Mfuta Kabwe', 'year': 2000}, 'lastborn': {'name': 'Chishibe Kabwe', 'year': 2004}}\n"
     ]
    }
   ],
   "source": [
    "#Declaring a Dictionary array\n",
    "my_dict = {\n",
    "    \"brand\":\"Apple\",\n",
    "    \"model\":\"ipad air\",\n",
    "    \"year\":2022\n",
    "}\n",
    "\n",
    "#Outing the Dictionary\n",
    "print(my_dict)\n",
    "\n",
    "#Looping through the Dictionary array\n",
    "for x in my_dict:\n",
    "    print(x)\n",
    "\n",
    "#Accessing the Dictionary array\n",
    "print(my_dict[\"brand\"])\n",
    "\n",
    "Kabwe_family = {\n",
    "  \"Mother\" : {\n",
    "    \"name\" : \"Catherine Chiluba\",\n",
    "    \"year\" : 1978\n",
    "  },\n",
    "  \"firstborn\" : {\n",
    "    \"name\" : \"Mfuta Kabwe\",\n",
    "    \"year\" : 2000\n",
    "  },\n",
    "  \"lastborn\" : {\n",
    "    \"name\" : \"Chishibe Kabwe\",\n",
    "    \"year\" : 2004\n",
    "  }\n",
    "}\n",
    "print(Kabwe_family)\n"
   ]
  },
  {
   "cell_type": "markdown",
   "metadata": {},
   "source": [
    "# Primitive Data Structure Tutorial(Dictionaries)\n",
    "# @chishibekabwe7@github.com"
   ]
  }
 ],
 "metadata": {
  "kernelspec": {
   "display_name": "Python 3",
   "language": "python",
   "name": "python3"
  },
  "language_info": {
   "codemirror_mode": {
    "name": "ipython",
    "version": 3
   },
   "file_extension": ".py",
   "mimetype": "text/x-python",
   "name": "python",
   "nbconvert_exporter": "python",
   "pygments_lexer": "ipython3",
   "version": "3.10.12"
  }
 },
 "nbformat": 4,
 "nbformat_minor": 2
}
