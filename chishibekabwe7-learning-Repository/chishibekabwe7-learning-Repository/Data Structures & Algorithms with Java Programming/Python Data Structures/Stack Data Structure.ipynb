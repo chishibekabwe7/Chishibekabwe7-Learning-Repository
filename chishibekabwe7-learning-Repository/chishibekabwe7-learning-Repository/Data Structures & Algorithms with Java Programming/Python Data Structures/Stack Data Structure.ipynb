{
 "cells": [
  {
   "cell_type": "code",
   "execution_count": 1,
   "metadata": {},
   "outputs": [
    {
     "name": "stdout",
     "output_type": "stream",
     "text": [
      "The Poped element was Digital Creater!\n",
      "Stack is not empty\n",
      "The size of the array is 3\n",
      "The top element of my stack is Male\n"
     ]
    }
   ],
   "source": [
    "\n",
    "#Declaring an empty stack\n",
    "my_stack = []\n",
    "\n",
    "#Pushing elements onto the stack\n",
    "my_stack.append(20)\n",
    "my_stack.append(\"Chishibe Kabwe\")\n",
    "my_stack.append(\"Male\")\n",
    "my_stack.append(\"Digital Creater\")\n",
    "\n",
    "#Poping elements from stack\n",
    "Removed_element = my_stack.pop()\n",
    "print(f\"The Poped element was {Removed_element}!\")\n",
    "\n",
    "\n",
    "#Checking if the stack is empty\n",
    "if my_stack:\n",
    "    print(\"Stack is not empty\")\n",
    "else:\n",
    "    print(\"Stack is empty\")\n",
    "\n",
    "#Checking the size of the stack with a variable\n",
    "stack_size = len(my_stack)\n",
    "print(f\"The size of the array is {stack_size}\")\n",
    "\n",
    "#Accessing the top element \n",
    "top_element = my_stack[-1]\n",
    "print(f\"The top element of my stack is {top_element}\")\n",
    "\n",
    "\n",
    "\n",
    "\n"
   ]
  },
  {
   "cell_type": "markdown",
   "metadata": {},
   "source": [
    "# Abstract Data Structure Tutorial(Stack)\n",
    "# @chishibekabwe7@github.com"
   ]
  }
 ],
 "metadata": {
  "kernelspec": {
   "display_name": "Python 3",
   "language": "python",
   "name": "python3"
  },
  "language_info": {
   "codemirror_mode": {
    "name": "ipython",
    "version": 3
   },
   "file_extension": ".py",
   "mimetype": "text/x-python",
   "name": "python",
   "nbconvert_exporter": "python",
   "pygments_lexer": "ipython3",
   "version": "3.10.12"
  }
 },
 "nbformat": 4,
 "nbformat_minor": 2
}
