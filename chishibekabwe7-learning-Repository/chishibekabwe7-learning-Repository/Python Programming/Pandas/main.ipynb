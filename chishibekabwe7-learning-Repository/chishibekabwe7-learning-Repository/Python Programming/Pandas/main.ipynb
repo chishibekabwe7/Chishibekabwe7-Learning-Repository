{
 "cells": [
  {
   "cell_type": "code",
   "execution_count": 16,
   "metadata": {},
   "outputs": [
    {
     "name": "stdout",
     "output_type": "stream",
     "text": [
      "     name  height  weight\n",
      "#1  Ricky    1.67      54\n",
      "#2     EJ    1.90     100\n",
      "#3   Gina    0.25       1\n",
      "#1     54\n",
      "#2    100\n",
      "#3      1\n",
      "Name: weight, dtype: int64\n",
      "100\n",
      "     Duration  Pulse  Maxpulse  Calories\n",
      "0          60    110       130     409.1\n",
      "1          60    117       145     479.0\n",
      "2          60    103       135     340.0\n",
      "3          45    109       175     282.4\n",
      "4          45    117       148     406.0\n",
      "..        ...    ...       ...       ...\n",
      "164        60    105       140     290.8\n",
      "165        60    110       145     300.0\n",
      "166        60    115       145     310.2\n",
      "167        75    120       150     320.4\n",
      "168        75    125       150     330.4\n",
      "\n",
      "[169 rows x 4 columns]\n"
     ]
    }
   ],
   "source": [
    "#!/usr/bin/env python3\n",
    "import pandas as pd\n",
    "\n",
    "column =  [\"Ricky\",\"EJ\",\"Gina\"]\n",
    "title_column = {\"name\":column,\n",
    "                \"height\":[1.67,1.9,0.25],\n",
    "                \"weight\":[54,100,1]}\n",
    "data = pd.DataFrame(title_column, index = [\"#1\",\"#2\",\"#3\"])\n",
    "print(data)\n",
    "\n",
    "#Select Values from Dataframe\n",
    "select_column = data[\"weight\"]\n",
    "select_row = data[\"weight\"][0]\n",
    "select_row = data.iloc[1][\"weight\"]\n",
    "print(select_column)\n",
    "print(select_row)\n",
    "\n",
    "\n",
    "\n",
    "# Reading CSV Files\n",
    "df = pd.read_csv('./Data Cleaning Samples/data.csv')\n",
    "print(df)\n",
    "\n",
    "#Reading a CSV file\n",
    "Data_Frame = pd.read_csv('./Data Cleaning Samples/data.csv')\n",
    "print(Data_Frame)"
   ]
  }
 ],
 "metadata": {
  "kernelspec": {
   "display_name": "Python 3",
   "language": "python",
   "name": "python3"
  },
  "language_info": {
   "codemirror_mode": {
    "name": "ipython",
    "version": 3
   },
   "file_extension": ".py",
   "mimetype": "text/x-python",
   "name": "python",
   "nbconvert_exporter": "python",
   "pygments_lexer": "ipython3",
   "version": "3.10.12"
  }
 },
 "nbformat": 4,
 "nbformat_minor": 2
}
