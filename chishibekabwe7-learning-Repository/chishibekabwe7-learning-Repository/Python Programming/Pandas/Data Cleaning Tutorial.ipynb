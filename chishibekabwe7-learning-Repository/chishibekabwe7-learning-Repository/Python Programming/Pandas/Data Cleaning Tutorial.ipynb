{
 "cells": [
  {
   "cell_type": "code",
   "execution_count": null,
   "metadata": {},
   "outputs": [],
   "source": [
    "#!/usr/bin/env python3\n",
    "\n",
    "import pandas as pd\n",
    "\n",
    "df = pd.read_csv('./Data Cleaning Samples/W3Schools Data Cleaning Sample.csv')\n",
    "print(df.to_string())"
   ]
  }
 ],
 "metadata": {
  "language_info": {
   "name": "python"
  }
 },
 "nbformat": 4,
 "nbformat_minor": 2
}
