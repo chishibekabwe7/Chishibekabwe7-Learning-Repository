{
 "cells": [
  {
   "cell_type": "code",
   "execution_count": null,
   "metadata": {},
   "outputs": [],
   "source": []
  },
  {
   "cell_type": "markdown",
   "metadata": {},
   "source": [
    "# Chishibe Kabwe\n",
    "1. Instagram:https://www.instagram.com/chishibe_kabwe24/\n",
    "2. X:https://twitter.com/ChishibeKabwe24\n",
    "3. Whatsapp:\n",
    "4. facebook:https://web.facebook.com/chishibe.cbkabwe.1\n",
    "5. Github:https://github.com/chishibekabwe7\n",
    "6. linkedin:https://www.linkedin.com/in/chishibe-kabwe-7734502ab/\n",
    "7. Tiktok:https://www.tiktok.com/@chishibe_kabwe24\n",
    "8. StackOverflow:https://stackoverflow.com/users/21120957/chishibe-kabwe\n",
    "9. StackShare.io:https://stackshare.io/chishibekabwe7\n",
    "    \n",
    "\n",
    "# Mfuta Kabwe\n",
    "1. Instagram:https://www.instagram.com/mfuta_major12/\n",
    "2. X:\n",
    "3. Whatsapp:\n",
    "4. facebook:https://web.facebook.com/Mfuta.Major\n",
    "5. Tiktok:https://www.tiktok.com/search?q=mfuta%20major&t=1709420199074\n",
    "\n",
    "\n",
    "\n",
    "# Kay Graphics\n",
    "1. Instagram:https://www.instagram.com/kangwa124/\n",
    "2. X:https://x.com/kangwa769?s=11\n",
    "3. facebook:https://web.facebook.com/profile.php?id=100090224226327\n",
    "4. linkedin:https://www.linkedin.com/in/kangwa-chilufya-425808248?utm_source=share&utm_campaign=share_via&utm_content=profile&utm_medium=ios_app\n",
    "\n",
    "\n",
    "\n",
    "# 3b Dangerous Empire\n",
    "1. Instagram:https://www.instagram.com/3b_dangerous_empire/\n",
    "2. audiomack:https://audiomack.com/3b-dangerous-empire\n",
    "3. Tiktok:https://www.tiktok.com/@3b_dangerous_empire?is_from_webapp=1&sender_device=pc\n",
    "4. facebook:https://web.facebook.com/profile.php?id=61553923381490\n",
    "5. Youtube:https://www.youtube.com/channel/UCUxGzQmvLbRWW-p7zXNPrgg\n",
    "\n",
    "\n",
    "\n",
    "# W3 Schools\n",
    "1. Home:https://www.w3schools.com/\n",
    "\n",
    "<a href =\"\" target = (_blank)></a>"
   ]
  }
 ],
 "metadata": {
  "language_info": {
   "name": "python"
  }
 },
 "nbformat": 4,
 "nbformat_minor": 2
}
