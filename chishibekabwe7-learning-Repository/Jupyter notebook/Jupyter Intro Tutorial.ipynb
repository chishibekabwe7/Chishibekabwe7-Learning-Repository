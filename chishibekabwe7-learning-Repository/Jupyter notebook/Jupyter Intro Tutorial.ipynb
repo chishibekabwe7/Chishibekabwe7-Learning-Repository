{
 "cells": [
  {
   "cell_type": "code",
   "execution_count": 2,
   "metadata": {},
   "outputs": [
    {
     "name": "stdout",
     "output_type": "stream",
     "text": [
      "I am learning Jupyter with python and it's amazing.\n"
     ]
    }
   ],
   "source": [
    "\"\"\"\n",
    "What is Jupyter?\n",
    "Jupyter is an open-source platform that allows you to create and share live code,\n",
    "equations,visualizations,and narratie text in a single interactive document.\n",
    "\n",
    "Why use Jupyter notebook?\n",
    "Jupyter notebooks can enable you to mix code,text and visualizations.\n",
    "\n",
    "Notebook Structure,jupyter notebook consists of cells,Code cell for writing and executing \n",
    "python and markdown cell for adding text,headings, and documention.\n",
    "\n",
    " \"\"\"\n",
    "my_variable = \"Jupyter\"\n",
    "print(f\"I am learning {my_variable} with python and it's amazing.\")\n",
    "\n"
   ]
  },
  {
   "cell_type": "markdown",
   "metadata": {},
   "source": [
    "# This is a An introduction tutorial of Jupyter.\n",
    "# @chishibeKabwe7@github."
   ]
  }
 ],
 "metadata": {
  "kernelspec": {
   "display_name": "Python 3",
   "language": "python",
   "name": "python3"
  },
  "language_info": {
   "codemirror_mode": {
    "name": "ipython",
    "version": 3
   },
   "file_extension": ".py",
   "mimetype": "text/x-python",
   "name": "python",
   "nbconvert_exporter": "python",
   "pygments_lexer": "ipython3",
   "version": "3.10.12"
  }
 },
 "nbformat": 4,
 "nbformat_minor": 2
}
