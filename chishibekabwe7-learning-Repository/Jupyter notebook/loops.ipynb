{
 "cells": [
  {
   "cell_type": "code",
   "execution_count": 2,
   "metadata": {},
   "outputs": [
    {
     "name": "stdout",
     "output_type": "stream",
     "text": [
      "facebook\n",
      "apple\n",
      "amazon\n",
      "netflix\n",
      "google\n",
      "f\n",
      "a\n",
      "a\n",
      "n\n",
      "g\n",
      "0\n",
      "1\n",
      "2\n",
      "3\n",
      "4\n",
      "5\n",
      "1\n",
      "2\n",
      "3\n"
     ]
    },
    {
     "data": {
      "text/plain": [
       "'\\ni = 0\\nwhile i < 6:\\n  i += 1\\n  if i == 3:\\n    continue\\n  print(i)\\n  \\n'"
      ]
     },
     "execution_count": 2,
     "metadata": {},
     "output_type": "execute_result"
    }
   ],
   "source": [
    "faang_companies = ['facebook','apple','amazon','netflix','google']\n",
    "for x in faang_companies:\n",
    "    print(x)\n",
    "\n",
    "    \n",
    "#looping through a string\n",
    "my_string = 'faang'\n",
    "for y in my_string:\n",
    "    print(y)\n",
    "\n",
    "#The range function\n",
    "for z in range(6):\n",
    "  print(z)\n",
    "\n",
    "#while loop\n",
    "#The break Statement\n",
    "i = 1\n",
    "while i < 6:\n",
    "  print(i)\n",
    "  if i == 3:\n",
    "    break\n",
    "  i += 1\n",
    "  \n",
    "#The continue Statement\n",
    "\"\"\"\n",
    "i = 0\n",
    "while i < 6:\n",
    "  i += 1\n",
    "  if i == 3:\n",
    "    continue\n",
    "  print(i)\n",
    "  \n",
    "\"\"\""
   ]
  },
  {
   "cell_type": "markdown",
   "metadata": {},
   "source": [
    "# Python Loops(For and while loop) Tutorial\n",
    "# @chishibekabwe7github."
   ]
  }
 ],
 "metadata": {
  "kernelspec": {
   "display_name": "Python 3",
   "language": "python",
   "name": "python3"
  },
  "language_info": {
   "codemirror_mode": {
    "name": "ipython",
    "version": 3
   },
   "file_extension": ".py",
   "mimetype": "text/x-python",
   "name": "python",
   "nbconvert_exporter": "python",
   "pygments_lexer": "ipython3",
   "version": "3.10.12"
  }
 },
 "nbformat": 4,
 "nbformat_minor": 2
}
