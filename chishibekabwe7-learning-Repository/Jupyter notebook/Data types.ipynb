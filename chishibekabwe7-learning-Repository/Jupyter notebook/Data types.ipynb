{
 "cells": [
  {
   "cell_type": "code",
   "execution_count": 1,
   "metadata": {},
   "outputs": [
    {
     "name": "stdout",
     "output_type": "stream",
     "text": [
      "<class 'int'>\n",
      "1\n",
      "Am currently listening to the song Work rihanna ft Drake\n",
      "<class 'str'>\n",
      "<class 'float'>\n",
      "True\n",
      "False\n"
     ]
    },
    {
     "data": {
      "text/plain": [
       "'\\n\\nText Type:\\tstr\\n\\nNumeric Types:\\tint, float, complex\\n\\nSequence Types:\\tlist, tuple, range\\n\\nMapping Type:\\tdict\\n\\nSet Types:\\tset, frozenset\\n\\nBoolean Type:\\tbool\\n\\nBinary Types:\\tbytes, bytearray, memoryview\\n\\n'"
      ]
     },
     "execution_count": 1,
     "metadata": {},
     "output_type": "execute_result"
    }
   ],
   "source": [
    "#This is a python integer\n",
    "x = 1\n",
    "print(type(x))\n",
    "print(x)\n",
    "\n",
    "#This is a python string\n",
    "y = 'Work rihanna ft Drake'\n",
    "print('Am currently listening to the song '+ y)\n",
    "print(type(y))\n",
    "\n",
    "#This is a float\n",
    "z = 1.10\n",
    "print(type(z))\n",
    "\n",
    "#This is a Python Boolean\n",
    "print(10 > 9)   #True\n",
    "print(10 == 9)  #False\n",
    "\n",
    "\"\"\"\n",
    "\n",
    "Text Type:\tstr\n",
    "\n",
    "Numeric Types:\tint, float, complex\n",
    "\n",
    "Sequence Types:\tlist, tuple, range\n",
    "\n",
    "Mapping Type:\tdict\n",
    "\n",
    "Set Types:\tset, frozenset\n",
    "\n",
    "Boolean Type:\tbool\n",
    "\n",
    "Binary Types:\tbytes, bytearray, memoryview\n",
    "\n",
    "\"\"\""
   ]
  },
  {
   "cell_type": "markdown",
   "metadata": {},
   "source": [
    "# Python Data Types Tutorial.\n",
    "# @chishibeKabwe7@github."
   ]
  }
 ],
 "metadata": {
  "kernelspec": {
   "display_name": "Python 3",
   "language": "python",
   "name": "python3"
  },
  "language_info": {
   "codemirror_mode": {
    "name": "ipython",
    "version": 3
   },
   "file_extension": ".py",
   "mimetype": "text/x-python",
   "name": "python",
   "nbconvert_exporter": "python",
   "pygments_lexer": "ipython3",
   "version": "3.10.12"
  }
 },
 "nbformat": 4,
 "nbformat_minor": 2
}
