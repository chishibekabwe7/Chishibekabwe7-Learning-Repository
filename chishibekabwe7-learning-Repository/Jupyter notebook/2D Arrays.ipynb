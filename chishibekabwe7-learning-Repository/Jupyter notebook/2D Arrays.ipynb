{
 "cells": [
  {
   "cell_type": "code",
   "execution_count": 10,
   "metadata": {},
   "outputs": [
    {
     "name": "stdout",
     "output_type": "stream",
     "text": [
      "3\n",
      "8\n",
      "1\n",
      "6\n",
      "1 2 3 \n",
      "4 5 6 \n",
      "7 8 9 \n"
     ]
    }
   ],
   "source": [
    "# Creating a 2D array(matrix)\n",
    "\n",
    "Chishibes_matrix = [\n",
    "    [1,2,3],\n",
    "    [4,5,6],\n",
    "    [7,8,9]\n",
    "]\n",
    "\n",
    "# Accessing Elements\n",
    "print(Chishibes_matrix[0][2]) #3\n",
    "print(Chishibes_matrix[2][1]) #8\n",
    "print(Chishibes_matrix[0][0]) #1\n",
    "print(Chishibes_matrix[1][2]) #6\n",
    "\n",
    "#Iterating through a 2D array\n",
    "for row in Chishibes_matrix:\n",
    "    for element in row:\n",
    "        print(element, end=\" \")\n",
    "    print()\n",
    "    \n"
   ]
  },
  {
   "cell_type": "markdown",
   "metadata": {},
   "source": [
    "# Tutorial on 2D arrays.\n",
    "# (Exercise) From the above matrix access the elements 3,8,1, and 6.\n",
    "# Authored by chishibekabwe7@github.com"
   ]
  }
 ],
 "metadata": {
  "kernelspec": {
   "display_name": "Python 3",
   "language": "python",
   "name": "python3"
  },
  "language_info": {
   "codemirror_mode": {
    "name": "ipython",
    "version": 3
   },
   "file_extension": ".py",
   "mimetype": "text/x-python",
   "name": "python",
   "nbconvert_exporter": "python",
   "pygments_lexer": "ipython3",
   "version": "3.10.12"
  }
 },
 "nbformat": 4,
 "nbformat_minor": 2
}
