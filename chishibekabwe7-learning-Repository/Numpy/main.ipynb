{
 "cells": [
  {
   "cell_type": "code",
   "execution_count": 25,
   "metadata": {},
   "outputs": [
    {
     "name": "stdout",
     "output_type": "stream",
     "text": [
      "[-1.  1.  3.  5.  7.  9. 11.]\n",
      "<class 'numpy.ndarray'>\n"
     ]
    }
   ],
   "source": [
    "import numpy as np\n",
    "\n",
    "my_array = np.arange(8)\n",
    "my_array = np.arange(1,8)\n",
    "my_array = np.arange(1,12,2)\n",
    "my_array = np.arange(-1,12.3,2)\n",
    "\n",
    "print(my_array)\n",
    "print(type(my_array))\n",
    "\n",
    "\n"
   ]
  },
  {
   "cell_type": "code",
   "execution_count": 30,
   "metadata": {},
   "outputs": [
    {
     "name": "stdout",
     "output_type": "stream",
     "text": [
      "(2, 4)\n"
     ]
    }
   ],
   "source": [
    "#Specifyin the data type to increace memory efficiency\n",
    "my_list = np.array([1,2,3], dtype=np.int8)\n",
    "print(type(my_list[0]))\n",
    "\n",
    "#2 Dimentional Arrays\n",
    "my_second_list = np.array([[1,2,3],[4,5,6]], dtype=np.int8)\n",
    "my_2D_array = np.array([np.arange(0,8,2),np.arange(1,8,2)], dtype=np.int8)\n",
    "print(my_second_list)\n",
    "print(my_2D_array.shape)\n",
    "\n"
   ]
  }
 ],
 "metadata": {
  "kernelspec": {
   "display_name": "Python 3",
   "language": "python",
   "name": "python3"
  },
  "language_info": {
   "codemirror_mode": {
    "name": "ipython",
    "version": 3
   },
   "file_extension": ".py",
   "mimetype": "text/x-python",
   "name": "python",
   "nbconvert_exporter": "python",
   "pygments_lexer": "ipython3",
   "version": "3.10.12"
  }
 },
 "nbformat": 4,
 "nbformat_minor": 2
}
