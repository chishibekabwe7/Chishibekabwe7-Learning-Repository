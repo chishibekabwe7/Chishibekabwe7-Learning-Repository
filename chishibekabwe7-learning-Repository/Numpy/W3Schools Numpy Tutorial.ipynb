{
 "cells": [
  {
   "cell_type": "code",
   "execution_count": 42,
   "metadata": {},
   "outputs": [
    {
     "name": "stdout",
     "output_type": "stream",
     "text": [
      "1.This is a 0 Dimentional array: 42\n",
      "2.This is a Uni Dimentional array: [1 2 3 4 5]\n",
      "3.This array has 1 dimention\n",
      "4.This is a (5,) Matrix\n",
      "5.This is a Two dimentional Array: [[1 2 3 4]\n",
      " [1 2 3 4]]\n",
      "6.This array has 2 dimentions\n",
      "7.This is a (2, 4) Matrix\n",
      "8.This is a Three Dimentional Array: [[[ 1  2  3  4]\n",
      "  [ 5  6  7  8]]\n",
      "\n",
      " [[ 9 10 11 12]\n",
      "  [13 14 15 16]]]\n",
      "9.This Array has 3 Dimentions\n",
      "10.This is a (2, 2, 4) Matrix\n"
     ]
    }
   ],
   "source": [
    "import numpy as np\n",
    "\n",
    "#Declaring a 0-D Array\n",
    "arr = np.array(42)\n",
    "print(f\"1.This is a 0 Dimentional array: {arr}\")\n",
    "\n",
    "#Uni Dimentional Array\n",
    "arr = np.array([1,2,3,4,5], dtype=np.int8)\n",
    "print(f\"2.This is a Uni Dimentional array: {arr}\")\n",
    "print(f\"3.This array has {arr.ndim} dimention\")\n",
    "print(f\"4.This is a {arr.shape} Matrix\")\n",
    "\n",
    "#2-Dimentional Array\n",
    "#arr = np.array([[1,2,3,4],[5,6,7,8]])\n",
    "arr = np.array([np.arange(1,5,1),np.arange(1,5,1)])\n",
    "print(f\"5.This is a Two dimentional Array: {arr}\")\n",
    "print(f\"6.This array has {arr.ndim} dimentions\")\n",
    "print(f\"7.This is a {arr.shape} Matrix\")\n",
    "\n",
    "\n",
    "#3-Dimentional Array\n",
    "#Declareing a 2x(2x3)\n",
    "arr = np.array([\n",
    "     [[1,2,3,4],[5,6,7,8]],\n",
    "     [[9,10,11,12],[13,14,15,16]]    \n",
    "])\n",
    "print(f\"8.This is a Three Dimentional Array: {arr}\")\n",
    "print(f\"9.This Array has {arr.ndim} Dimentions\")\n",
    "print(f\"10.This is a {arr.shape} Matrix\")\n"
   ]
  },
  {
   "cell_type": "code",
   "execution_count": 43,
   "metadata": {},
   "outputs": [
    {
     "name": "stdout",
     "output_type": "stream",
     "text": [
      "Exercise 1:1\n",
      "Exercise 2:11\n",
      "Exercise 3:14\n",
      "Exercise 4:4\n",
      "Exercise 5:7\n"
     ]
    }
   ],
   "source": [
    "#Exercise, Use indexing to aceess the following numbers\n",
    "print(f\"Exercise 1:{arr[0,0,0]}\") #1\n",
    "print(f\"Exercise 2:{arr[1,0,2]}\") #11\n",
    "print(f\"Exercise 3:{arr[1,1,1]}\") #14\n",
    "print(f\"Exercise 4:{arr[0,0,3]}\") #4\n",
    "print(f\"Exercise 5:{arr[0,1,2]}\") #7"
   ]
  },
  {
   "cell_type": "code",
   "execution_count": 44,
   "metadata": {},
   "outputs": [
    {
     "name": "stdout",
     "output_type": "stream",
     "text": [
      "This array has been sliced[2 3 4 5]\n",
      "This array has been sliced[7 8 9]\n",
      "This array has been sliced[0 1 2]\n"
     ]
    }
   ],
   "source": [
    "#Slicing arrays\n",
    "arr = np.array((0,1,2,3,4,5,6,7,8,9,10),dtype='int8')\n",
    "print(f\"This array has been sliced{arr[2:6 ] }\")   # 2,3,4,5\n",
    "print(f\"This array has been sliced{arr[7:10] }\") # 7,8,9\n",
    "print(f\"This array has been sliced{arr[0:3 ] }\")   # 0,1,2\n"
   ]
  },
  {
   "cell_type": "code",
   "execution_count": 45,
   "metadata": {},
   "outputs": [
    {
     "name": "stdout",
     "output_type": "stream",
     "text": [
      "int8\n",
      "<U8\n",
      "[1 2 3] This array's Data type has been converted from float to integer\n"
     ]
    }
   ],
   "source": [
    "#Data Types\n",
    "print(arr.dtype)\n",
    "my_full_names = np.array((\"Chishibe\",\"Martin\",\"Kabwe\"))\n",
    "print(my_full_names.dtype)\n",
    "my_arr = np.array([1.1,2.2,3.3],dtype='int8')\n",
    "print(f\"{my_arr} This array's Data type has been converted from float to integer\")"
   ]
  },
  {
   "cell_type": "code",
   "execution_count": null,
   "metadata": {},
   "outputs": [],
   "source": []
  }
 ],
 "metadata": {
  "kernelspec": {
   "display_name": "Python 3",
   "language": "python",
   "name": "python3"
  },
  "language_info": {
   "codemirror_mode": {
    "name": "ipython",
    "version": 3
   },
   "file_extension": ".py",
   "mimetype": "text/x-python",
   "name": "python",
   "nbconvert_exporter": "python",
   "pygments_lexer": "ipython3",
   "version": "3.10.12"
  }
 },
 "nbformat": 4,
 "nbformat_minor": 2
}
