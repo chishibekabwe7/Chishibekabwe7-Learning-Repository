{
 "cells": [
  {
   "cell_type": "code",
   "execution_count": 1,
   "metadata": {},
   "outputs": [
    {
     "name": "stdout",
     "output_type": "stream",
     "text": [
      "Hello from a function\n",
      "Andrew Kabwe\n",
      "Mfuta Kabwe\n",
      "Chishibe Kabwe\n"
     ]
    },
    {
     "data": {
      "text/plain": [
       "'\\ndef my_function_1(fname):\\n  print(fname + \"Biggie emma\")\\n\\nmy_function_1(\"Zeg Greasy\")\\nmy_function_1(\"Pablo\")\\nmy_function_1(\"Don Makayi\")\\n\\n'"
      ]
     },
     "execution_count": 1,
     "metadata": {},
     "output_type": "execute_result"
    }
   ],
   "source": [
    "#Python3 Functions\n",
    "def my_function():\n",
    "  print(\"Hello from a function\")\n",
    "\n",
    "my_function()\n",
    "\n",
    "#Arguments\n",
    "def my_function(fname):\n",
    "  print(fname + \" Kabwe\")\n",
    "\n",
    "my_function(\"Andrew\")\n",
    "my_function(\"Mfuta\")\n",
    "my_function(\"Chishibe\")\n",
    "\"\"\"\n",
    "def my_function_1(fname):\n",
    "  print(fname + \"Biggie emma\")\n",
    "\n",
    "my_function_1(\"Zeg Greasy\")\n",
    "my_function_1(\"Pablo\")\n",
    "my_function_1(\"Don Makayi\")\n",
    "\n",
    "\"\"\""
   ]
  },
  {
   "cell_type": "markdown",
   "metadata": {},
   "source": [
    "# Python Functions Tutorial.\n",
    "# @chishibeKabwe7@github."
   ]
  }
 ],
 "metadata": {
  "kernelspec": {
   "display_name": "Python 3",
   "language": "python",
   "name": "python3"
  },
  "language_info": {
   "codemirror_mode": {
    "name": "ipython",
    "version": 3
   },
   "file_extension": ".py",
   "mimetype": "text/x-python",
   "name": "python",
   "nbconvert_exporter": "python",
   "pygments_lexer": "ipython3",
   "version": "3.10.12"
  }
 },
 "nbformat": 4,
 "nbformat_minor": 2
}
