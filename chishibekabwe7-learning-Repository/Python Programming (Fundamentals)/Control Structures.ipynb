{
 "cells": [
  {
   "cell_type": "code",
   "execution_count": 1,
   "metadata": {},
   "outputs": [
    {
     "name": "stdout",
     "output_type": "stream",
     "text": [
      "b is greater than a\n",
      "Both conditions are True\n",
      "At least one of the conditions is True\n"
     ]
    }
   ],
   "source": [
    "a = 24\n",
    "b = 30\n",
    "if b > a:\n",
    "  print(\"b is greater than a\")\n",
    "elif a == b:\n",
    "  print(\"b and a are equal\")\n",
    "else:\n",
    "    print(\"b is not greater than a\")\n",
    "\n",
    "\"\"\"\n",
    "Indentation\n",
    "Python relies on indentation (whitespace at the beginning of a line) to define scope in the code. Other programming languages often use curly-brackets for this purpose.\n",
    "\n",
    "Example\n",
    "If statement, without indentation (will raise an error):\n",
    "\n",
    "a = 33\n",
    "b = 200\n",
    "if b > a:\n",
    "print(\"b is greater than a\") # you will get an error\n",
    "\n",
    "\"\"\"\n",
    "\n",
    "#And Keyword\n",
    "x = 200\n",
    "y = 33\n",
    "z = 500\n",
    "if x > y and z > x:\n",
    "  print(\"Both conditions are True\")\n",
    "\n",
    "#Or Keyword\n",
    "d = 200\n",
    "e = 33\n",
    "f = 500\n",
    "if d > e or d > f:\n",
    "  print(\"At least one of the conditions is True\")\n",
    "  \n",
    "#The pass Statement\n",
    "#if statements cannot be empty, but if you for some reason have an if statement with no content, put in the pass statement to avoid getting an error.\n",
    "\n",
    "#Example\n",
    "g = 33\n",
    "h = 200\n",
    "\n",
    "if h > g:\n",
    "  pass  "
   ]
  },
  {
   "cell_type": "markdown",
   "metadata": {},
   "source": [
    "# Control Structure(if & else statements) Tutorial with Python.\n",
    "# @chishibeKabwe7@github."
   ]
  }
 ],
 "metadata": {
  "kernelspec": {
   "display_name": "Python 3",
   "language": "python",
   "name": "python3"
  },
  "language_info": {
   "codemirror_mode": {
    "name": "ipython",
    "version": 3
   },
   "file_extension": ".py",
   "mimetype": "text/x-python",
   "name": "python",
   "nbconvert_exporter": "python",
   "pygments_lexer": "ipython3",
   "version": "3.10.12"
  }
 },
 "nbformat": 4,
 "nbformat_minor": 2
}
